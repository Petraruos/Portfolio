{
 "cells": [
  {
   "cell_type": "code",
   "execution_count": 1,
   "metadata": {},
   "outputs": [],
   "source": [
    "import numpy as np\n",
    "import pandas as pd\n",
    "import matplotlib.pyplot as plt\n",
    "\n",
    "%matplotlib inline\n",
    "plt.style.use('seaborn-pastel')\n",
    "\n",
    "from matplotlib.ticker import PercentFormatter\n",
    "\n",
    "myFmt1 = PercentFormatter(xmax=1, decimals=0, symbol=' %')\n",
    "\n",
    "myFmt100 = PercentFormatter(xmax=100, decimals=0, symbol=' %')"
   ]
  },
  {
   "cell_type": "code",
   "execution_count": 7,
   "metadata": {},
   "outputs": [
    {
     "data": {
      "text/html": [
       "<div>\n",
       "<style scoped>\n",
       "    .dataframe tbody tr th:only-of-type {\n",
       "        vertical-align: middle;\n",
       "    }\n",
       "\n",
       "    .dataframe tbody tr th {\n",
       "        vertical-align: top;\n",
       "    }\n",
       "\n",
       "    .dataframe thead th {\n",
       "        text-align: right;\n",
       "    }\n",
       "</style>\n",
       "<table border=\"1\" class=\"dataframe\">\n",
       "  <thead>\n",
       "    <tr style=\"text-align: right;\">\n",
       "      <th></th>\n",
       "      <th>Kunta</th>\n",
       "      <th>Taajama-aste, %, 2017</th>\n",
       "      <th>Väkiluku, 2018</th>\n",
       "      <th>Väkiluvun muutos edellisestä vuodesta, %, 2018</th>\n",
       "      <th>Alle 15-vuotiaiden osuus väestöstä, %, 2018</th>\n",
       "      <th>15-64 -vuotiaiden osuus väestöstä, %, 2018</th>\n",
       "      <th>Yli 64-vuotiaiden osuus väestöstä, %, 2018</th>\n",
       "      <th>Ruotsinkielisten osuus väestöstä, %, 2018</th>\n",
       "      <th>Ulkomaan kansalaisten osuus väestöstä, %, 2018</th>\n",
       "      <th>Syntyneiden enemmyys, henkilöä, 2018</th>\n",
       "      <th>...</th>\n",
       "      <th>Alueella olevien työpaikkojen lukumäärä, 2016</th>\n",
       "      <th>Alkutuotannon työpaikkojen osuus, %, 2016</th>\n",
       "      <th>Jalostuksen työpaikkojen osuus, %, 2016</th>\n",
       "      <th>Palvelujen työpaikkojen osuus, %, 2016</th>\n",
       "      <th>Työpaikkaomavaraisuus, 2016</th>\n",
       "      <th>Vuosikate, euroa/asukas, 2017</th>\n",
       "      <th>Lainakanta, euroa/asukas, 2017</th>\n",
       "      <th>Konsernin lainakanta, euroa/asukas, 2017</th>\n",
       "      <th>Opetus- ja kulttuuritoiminta yhteensä, nettokäyttökustannukset, euroa/asukas, 2017</th>\n",
       "      <th>Sosiaali- ja terveystoiminta yhteensä, nettokäyttökustannukset, euroa/asukas, 2017</th>\n",
       "    </tr>\n",
       "  </thead>\n",
       "  <tbody>\n",
       "    <tr>\n",
       "      <th>0</th>\n",
       "      <td>Akaa</td>\n",
       "      <td>88.5</td>\n",
       "      <td>16611</td>\n",
       "      <td>-0.9</td>\n",
       "      <td>17.7</td>\n",
       "      <td>59.4</td>\n",
       "      <td>22.9</td>\n",
       "      <td>0.2</td>\n",
       "      <td>1.7</td>\n",
       "      <td>-87</td>\n",
       "      <td>...</td>\n",
       "      <td>4512</td>\n",
       "      <td>3.3</td>\n",
       "      <td>35.6</td>\n",
       "      <td>59.5</td>\n",
       "      <td>67.8</td>\n",
       "      <td>370.2</td>\n",
       "      <td>3139.1</td>\n",
       "      <td>3927.7</td>\n",
       "      <td>1579.9</td>\n",
       "      <td>3231.2</td>\n",
       "    </tr>\n",
       "    <tr>\n",
       "      <th>1</th>\n",
       "      <td>Alajärvi</td>\n",
       "      <td>60.7</td>\n",
       "      <td>9700</td>\n",
       "      <td>-1.3</td>\n",
       "      <td>17.4</td>\n",
       "      <td>55.4</td>\n",
       "      <td>27.2</td>\n",
       "      <td>0.1</td>\n",
       "      <td>2.1</td>\n",
       "      <td>-49</td>\n",
       "      <td>...</td>\n",
       "      <td>3330</td>\n",
       "      <td>11.6</td>\n",
       "      <td>26.4</td>\n",
       "      <td>59.9</td>\n",
       "      <td>96.8</td>\n",
       "      <td>674.0</td>\n",
       "      <td>2152.1</td>\n",
       "      <td>4235.1</td>\n",
       "      <td>2152.6</td>\n",
       "      <td>3579.3</td>\n",
       "    </tr>\n",
       "    <tr>\n",
       "      <th>2</th>\n",
       "      <td>Alavieska</td>\n",
       "      <td>52.6</td>\n",
       "      <td>2573</td>\n",
       "      <td>-1.4</td>\n",
       "      <td>19.4</td>\n",
       "      <td>57.0</td>\n",
       "      <td>23.7</td>\n",
       "      <td>0.2</td>\n",
       "      <td>0.6</td>\n",
       "      <td>-4</td>\n",
       "      <td>...</td>\n",
       "      <td>741</td>\n",
       "      <td>24.4</td>\n",
       "      <td>21.6</td>\n",
       "      <td>52.0</td>\n",
       "      <td>75.6</td>\n",
       "      <td>276.2</td>\n",
       "      <td>2988.9</td>\n",
       "      <td>3182.4</td>\n",
       "      <td>1837.5</td>\n",
       "      <td>3995.8</td>\n",
       "    </tr>\n",
       "    <tr>\n",
       "      <th>3</th>\n",
       "      <td>Alavus</td>\n",
       "      <td>59.5</td>\n",
       "      <td>11544</td>\n",
       "      <td>-1.4</td>\n",
       "      <td>17.0</td>\n",
       "      <td>56.1</td>\n",
       "      <td>26.9</td>\n",
       "      <td>0.1</td>\n",
       "      <td>1.1</td>\n",
       "      <td>-65</td>\n",
       "      <td>...</td>\n",
       "      <td>4355</td>\n",
       "      <td>9.9</td>\n",
       "      <td>23.3</td>\n",
       "      <td>65.6</td>\n",
       "      <td>99.5</td>\n",
       "      <td>466.4</td>\n",
       "      <td>3307.6</td>\n",
       "      <td>6004.2</td>\n",
       "      <td>1780.8</td>\n",
       "      <td>3886.5</td>\n",
       "    </tr>\n",
       "    <tr>\n",
       "      <th>4</th>\n",
       "      <td>Asikkala</td>\n",
       "      <td>64.4</td>\n",
       "      <td>8149</td>\n",
       "      <td>-1.2</td>\n",
       "      <td>14.2</td>\n",
       "      <td>53.6</td>\n",
       "      <td>32.2</td>\n",
       "      <td>0.2</td>\n",
       "      <td>1.7</td>\n",
       "      <td>-70</td>\n",
       "      <td>...</td>\n",
       "      <td>2318</td>\n",
       "      <td>9.4</td>\n",
       "      <td>27.4</td>\n",
       "      <td>60.8</td>\n",
       "      <td>75.7</td>\n",
       "      <td>577.5</td>\n",
       "      <td>1453.7</td>\n",
       "      <td>3014.4</td>\n",
       "      <td>1607.9</td>\n",
       "      <td>3476.6</td>\n",
       "    </tr>\n",
       "  </tbody>\n",
       "</table>\n",
       "<p>5 rows × 33 columns</p>\n",
       "</div>"
      ],
      "text/plain": [
       "       Kunta  Taajama-aste, %, 2017  Väkiluku, 2018  \\\n",
       "0       Akaa                   88.5           16611   \n",
       "1   Alajärvi                   60.7            9700   \n",
       "2  Alavieska                   52.6            2573   \n",
       "3     Alavus                   59.5           11544   \n",
       "4   Asikkala                   64.4            8149   \n",
       "\n",
       "   Väkiluvun muutos edellisestä vuodesta, %, 2018  \\\n",
       "0                                            -0.9   \n",
       "1                                            -1.3   \n",
       "2                                            -1.4   \n",
       "3                                            -1.4   \n",
       "4                                            -1.2   \n",
       "\n",
       "   Alle 15-vuotiaiden osuus väestöstä, %, 2018  \\\n",
       "0                                         17.7   \n",
       "1                                         17.4   \n",
       "2                                         19.4   \n",
       "3                                         17.0   \n",
       "4                                         14.2   \n",
       "\n",
       "   15-64 -vuotiaiden osuus väestöstä, %, 2018  \\\n",
       "0                                        59.4   \n",
       "1                                        55.4   \n",
       "2                                        57.0   \n",
       "3                                        56.1   \n",
       "4                                        53.6   \n",
       "\n",
       "   Yli 64-vuotiaiden osuus väestöstä, %, 2018  \\\n",
       "0                                        22.9   \n",
       "1                                        27.2   \n",
       "2                                        23.7   \n",
       "3                                        26.9   \n",
       "4                                        32.2   \n",
       "\n",
       "   Ruotsinkielisten osuus väestöstä, %, 2018  \\\n",
       "0                                        0.2   \n",
       "1                                        0.1   \n",
       "2                                        0.2   \n",
       "3                                        0.1   \n",
       "4                                        0.2   \n",
       "\n",
       "   Ulkomaan kansalaisten osuus väestöstä, %, 2018  \\\n",
       "0                                             1.7   \n",
       "1                                             2.1   \n",
       "2                                             0.6   \n",
       "3                                             1.1   \n",
       "4                                             1.7   \n",
       "\n",
       "   Syntyneiden enemmyys, henkilöä, 2018  ...  \\\n",
       "0                                   -87  ...   \n",
       "1                                   -49  ...   \n",
       "2                                    -4  ...   \n",
       "3                                   -65  ...   \n",
       "4                                   -70  ...   \n",
       "\n",
       "   Alueella olevien työpaikkojen lukumäärä, 2016  \\\n",
       "0                                           4512   \n",
       "1                                           3330   \n",
       "2                                            741   \n",
       "3                                           4355   \n",
       "4                                           2318   \n",
       "\n",
       "   Alkutuotannon työpaikkojen osuus, %, 2016  \\\n",
       "0                                        3.3   \n",
       "1                                       11.6   \n",
       "2                                       24.4   \n",
       "3                                        9.9   \n",
       "4                                        9.4   \n",
       "\n",
       "   Jalostuksen työpaikkojen osuus, %, 2016  \\\n",
       "0                                     35.6   \n",
       "1                                     26.4   \n",
       "2                                     21.6   \n",
       "3                                     23.3   \n",
       "4                                     27.4   \n",
       "\n",
       "   Palvelujen työpaikkojen osuus, %, 2016  Työpaikkaomavaraisuus, 2016  \\\n",
       "0                                    59.5                         67.8   \n",
       "1                                    59.9                         96.8   \n",
       "2                                    52.0                         75.6   \n",
       "3                                    65.6                         99.5   \n",
       "4                                    60.8                         75.7   \n",
       "\n",
       "   Vuosikate, euroa/asukas, 2017  Lainakanta, euroa/asukas, 2017  \\\n",
       "0                          370.2                          3139.1   \n",
       "1                          674.0                          2152.1   \n",
       "2                          276.2                          2988.9   \n",
       "3                          466.4                          3307.6   \n",
       "4                          577.5                          1453.7   \n",
       "\n",
       "   Konsernin lainakanta, euroa/asukas, 2017  \\\n",
       "0                                    3927.7   \n",
       "1                                    4235.1   \n",
       "2                                    3182.4   \n",
       "3                                    6004.2   \n",
       "4                                    3014.4   \n",
       "\n",
       "   Opetus- ja kulttuuritoiminta yhteensä, nettokäyttökustannukset, euroa/asukas, 2017  \\\n",
       "0                                             1579.9                                    \n",
       "1                                             2152.6                                    \n",
       "2                                             1837.5                                    \n",
       "3                                             1780.8                                    \n",
       "4                                             1607.9                                    \n",
       "\n",
       "   Sosiaali- ja terveystoiminta yhteensä, nettokäyttökustannukset, euroa/asukas, 2017  \n",
       "0                                             3231.2                                   \n",
       "1                                             3579.3                                   \n",
       "2                                             3995.8                                   \n",
       "3                                             3886.5                                   \n",
       "4                                             3476.6                                   \n",
       "\n",
       "[5 rows x 33 columns]"
      ]
     },
     "execution_count": 7,
     "metadata": {},
     "output_type": "execute_result"
    }
   ],
   "source": [
    "df = pd.read_excel('http://taanila.fi/kunnat.xlsx')\n",
    "\n",
    "df.head()"
   ]
  },
  {
   "cell_type": "code",
   "execution_count": 15,
   "metadata": {},
   "outputs": [
    {
     "data": {
      "text/html": [
       "<div>\n",
       "<style scoped>\n",
       "    .dataframe tbody tr th:only-of-type {\n",
       "        vertical-align: middle;\n",
       "    }\n",
       "\n",
       "    .dataframe tbody tr th {\n",
       "        vertical-align: top;\n",
       "    }\n",
       "\n",
       "    .dataframe thead th {\n",
       "        text-align: right;\n",
       "    }\n",
       "</style>\n",
       "<table border=\"1\" class=\"dataframe\">\n",
       "  <thead>\n",
       "    <tr style=\"text-align: right;\">\n",
       "      <th></th>\n",
       "      <th>Väkiluku, 2018</th>\n",
       "    </tr>\n",
       "  </thead>\n",
       "  <tbody>\n",
       "    <tr>\n",
       "      <th>Alajärvi</th>\n",
       "      <td>9700</td>\n",
       "    </tr>\n",
       "    <tr>\n",
       "      <th>Alavieska</th>\n",
       "      <td>2573</td>\n",
       "    </tr>\n",
       "    <tr>\n",
       "      <th>Alavus</th>\n",
       "      <td>11544</td>\n",
       "    </tr>\n",
       "    <tr>\n",
       "      <th>Asikkala</th>\n",
       "      <td>8149</td>\n",
       "    </tr>\n",
       "  </tbody>\n",
       "</table>\n",
       "</div>"
      ],
      "text/plain": [
       "           Väkiluku, 2018\n",
       "Alajärvi             9700\n",
       "Alavieska            2573\n",
       "Alavus              11544\n",
       "Asikkala             8149"
      ]
     },
     "execution_count": 15,
     "metadata": {},
     "output_type": "execute_result"
    }
   ],
   "source": [
    "df1 = pd.DataFrame({'Väkiluku, 2018': [9700, 2573, 11544, 8149]}, index = ['Alajärvi', 'Alavieska', 'Alavus', 'Asikkala'])\n",
    "df1"
   ]
  },
  {
   "cell_type": "code",
   "execution_count": 16,
   "metadata": {},
   "outputs": [
    {
     "data": {
      "text/plain": [
       "<matplotlib.axes._subplots.AxesSubplot at 0x24d02580e10>"
      ]
     },
     "execution_count": 16,
     "metadata": {},
     "output_type": "execute_result"
    },
    {
     "data": {
      "image/png": "[encoded data removed]",
      "text/plain": [
       "<Figure size 432x288 with 1 Axes>"
      ]
     },
     "metadata": {
      "needs_background": "light"
     },
     "output_type": "display_data"
    }
   ],
   "source": [
    "df1.plot.barh()"
   ]
  },
  {
   "cell_type": "code",
   "execution_count": 23,
   "metadata": {
    "scrolled": true
   },
   "outputs": [
    {
     "data": {
      "image/png": "[encoded data removed]",
      "text/plain": [
       "<Figure size 432x288 with 1 Axes>"
      ]
     },
     "metadata": {
      "needs_background": "light"
     },
     "output_type": "display_data"
    }
   ],
   "source": [
    "ax1 = df1.plot.barh(legend=False, width=0.7)\n",
    "\n",
    "ax1.set_title('Väkiluvut vuonna 2018')\n",
    "ax1.set_xlabel('Tuhatta asukasta')\n",
    "\n",
    "ax1.set_xticklabels(['{:.1f}'.format(x/1000) for x in ax1.get_xticks()])\n",
    "\n",
    "ax1.grid(axis='x')\n",
    "\n",
    "ax1.set_axisbelow(True)"
   ]
  },
  {
   "cell_type": "code",
   "execution_count": 24,
   "metadata": {},
   "outputs": [
    {
     "data": {
      "text/html": [
       "<div>\n",
       "<style scoped>\n",
       "    .dataframe tbody tr th:only-of-type {\n",
       "        vertical-align: middle;\n",
       "    }\n",
       "\n",
       "    .dataframe tbody tr th {\n",
       "        vertical-align: top;\n",
       "    }\n",
       "\n",
       "    .dataframe thead th {\n",
       "        text-align: right;\n",
       "    }\n",
       "</style>\n",
       "<table border=\"1\" class=\"dataframe\">\n",
       "  <thead>\n",
       "    <tr style=\"text-align: right;\">\n",
       "      <th></th>\n",
       "      <th>Vuosikate, euroa/asukas, 2017</th>\n",
       "      <th>Lainakanta, euroa/asukas, 2017</th>\n",
       "    </tr>\n",
       "  </thead>\n",
       "  <tbody>\n",
       "    <tr>\n",
       "      <th>Alajärvi</th>\n",
       "      <td>674.0</td>\n",
       "      <td>2152.1</td>\n",
       "    </tr>\n",
       "    <tr>\n",
       "      <th>Alavieska</th>\n",
       "      <td>276.2</td>\n",
       "      <td>2988.9</td>\n",
       "    </tr>\n",
       "    <tr>\n",
       "      <th>Alavus</th>\n",
       "      <td>466.4</td>\n",
       "      <td>3307.6</td>\n",
       "    </tr>\n",
       "    <tr>\n",
       "      <th>Asikkala</th>\n",
       "      <td>577.5</td>\n",
       "      <td>1453.7</td>\n",
       "    </tr>\n",
       "  </tbody>\n",
       "</table>\n",
       "</div>"
      ],
      "text/plain": [
       "           Vuosikate, euroa/asukas, 2017  Lainakanta, euroa/asukas, 2017\n",
       "Alajärvi                           674.0                          2152.1\n",
       "Alavieska                          276.2                          2988.9\n",
       "Alavus                             466.4                          3307.6\n",
       "Asikkala                           577.5                          1453.7"
      ]
     },
     "execution_count": 24,
     "metadata": {},
     "output_type": "execute_result"
    }
   ],
   "source": [
    "df2 = pd.DataFrame({'Vuosikate, euroa/asukas, 2017': [674.0, 276.2, 466.4, 577.5],\n",
    "                   'Lainakanta, euroa/asukas, 2017': [2152.1, 2988.9, 3307.6, 1453.7]},\n",
    "                  index = ['Alajärvi', 'Alavieska', 'Alavus', 'Asikkala'])\n",
    "df2"
   ]
  },
  {
   "cell_type": "code",
   "execution_count": 25,
   "metadata": {},
   "outputs": [
    {
     "data": {
      "text/plain": [
       "<matplotlib.legend.Legend at 0x24d03d7f828>"
      ]
     },
     "execution_count": 25,
     "metadata": {},
     "output_type": "execute_result"
    },
    {
     "data": {
      "image/png": "[encoded data removed]",
      "text/plain": [
       "<Figure size 432x288 with 1 Axes>"
      ]
     },
     "metadata": {
      "needs_background": "light"
     },
     "output_type": "display_data"
    }
   ],
   "source": [
    "ax2 = df2.plot.bar(rot=0)\n",
    "\n",
    "ax2.set_ylabel('sataa euroa')\n",
    "\n",
    "ax2.set_yticklabels(['{:.1f}'.format(y/100) for y in ax2.get_yticks()])\n",
    "\n",
    "ax2.legend(ncol=2)"
   ]
  },
  {
   "cell_type": "code",
   "execution_count": 26,
   "metadata": {},
   "outputs": [
    {
     "data": {
      "text/plain": [
       "[Text(0, 0.5, 'Euroa'),\n",
       " Text(0.5, 0, 'Kunta'),\n",
       " Text(0.5, 1.0, 'Vuosikate ja lainakanta asukasta kohden 2017')]"
      ]
     },
     "execution_count": 26,
     "metadata": {},
     "output_type": "execute_result"
    },
    {
     "data": {
      "image/png": "[encoded data removed]",
      "text/plain": [
       "<Figure size 432x288 with 1 Axes>"
      ]
     },
     "metadata": {
      "needs_background": "light"
     },
     "output_type": "display_data"
    }
   ],
   "source": [
    "ax3 = df2.plot.bar(legend='reverse', rot=0, stacked=True, width=0.7)\n",
    "\n",
    "ax3.set(title='Vuosikate ja lainakanta asukasta kohden 2017', xlabel='Kunta', ylabel='Euroa')"
   ]
  },
  {
   "cell_type": "code",
   "execution_count": null,
   "metadata": {},
   "outputs": [],
   "source": []
  }
 ],
 "metadata": {
  "kernelspec": {
   "display_name": "Python 3",
   "language": "python",
   "name": "python3"
  },
  "language_info": {
   "codemirror_mode": {
    "name": "ipython",
    "version": 3
   },
   "file_extension": ".py",
   "mimetype": "text/x-python",
   "name": "python",
   "nbconvert_exporter": "python",
   "pygments_lexer": "ipython3",
   "version": "3.7.3"
  }
 },
 "nbformat": 4,
 "nbformat_minor": 2
}
